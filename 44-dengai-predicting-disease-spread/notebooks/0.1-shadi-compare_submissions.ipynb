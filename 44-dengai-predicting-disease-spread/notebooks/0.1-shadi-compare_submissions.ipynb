{
 "cells": [
  {
   "cell_type": "code",
   "execution_count": null,
   "metadata": {},
   "outputs": [],
   "source": [
    "import pandas as pd\n",
    "from matplotlib import pyplot as plt"
   ]
  },
  {
   "cell_type": "code",
   "execution_count": null,
   "metadata": {},
   "outputs": [],
   "source": [
    "df_dates = pd.DataFrame({\n",
    "    'week_start_date': pd.date_range(start='1980-01-01', end='2018-01-01', freq='W-MON').values\n",
    "})\n",
    "df_dates['year'] = df_dates['week_start_date'].apply(lambda x: int(x.strftime(\"%Y\")))\n",
    "df_dates['weekofyear'] = df_dates['week_start_date'].apply(lambda x: int(x.strftime(\"%U\")))\n",
    "df_dates.head(n=2)"
   ]
  },
  {
   "cell_type": "code",
   "execution_count": null,
   "metadata": {},
   "outputs": [],
   "source": [
    "df_preds = []\n",
    "for fn_prev in [\n",
    "    '1-submission_20180530_092740-score_29.csv',\n",
    "    ##'2.0-submission_20180530_111647-score_29.csv',\n",
    "    #'2.1-submission_20180530_133617-score_26.csv',\n",
    "    '3.0-submission_20180530_141052-score_26.csv', # RF basic\n",
    "    # '3.0.1-submission_20180531_062302.csv', # RF with refit\n",
    "    # '3.1-submission_20180530_165638.csv', # RF with diff\n",
    "    # '3.1B-submission_20180531_062845.csv', # RF with diff and ...?\n",
    "    # '3.1.1-submission_20180531_104829.csv', # RF with target being diff\n",
    "    # '3.2-submission_20180531_095313.csv', # RF with diff and classifier\n",
    "    '3.2-submission_20180531_134029.csv', # RF with classifier and regressor\n",
    "    '4.0-submission_20180531_083801-score_22.csv', # LSTM basic\n",
    "    ]:\n",
    "    df_prev = pd.read_csv('data/interim/%s'%fn_prev)\n",
    "    df_prev['fn'] = fn_prev\n",
    "    df_preds.append(df_prev)\n",
    "    \n",
    "df_preds = pd.concat(df_preds, axis=0)\n",
    "df_preds = df_preds.merge(df_dates, on=['year', 'weekofyear'], how='left')\n",
    "df_preds = df_preds.pivot_table(index=['city', 'week_start_date'], columns='fn', values='total_cases')\n",
    "df_preds.head(n=2)"
   ]
  },
  {
   "cell_type": "code",
   "execution_count": null,
   "metadata": {},
   "outputs": [],
   "source": [
    "for city in ['sj','iq']:\n",
    "    df_preds.loc[city].plot(cmap='Blues', figsize=(20,5))\n",
    "    plt.title(city)\n",
    "    plt.legend()\n",
    "    plt.show()"
   ]
  },
  {
   "cell_type": "code",
   "execution_count": null,
   "metadata": {},
   "outputs": [],
   "source": []
  }
 ],
 "metadata": {
  "kernelspec": {
   "display_name": "Python 3",
   "language": "python",
   "name": "python3"
  }
 },
 "nbformat": 4,
 "nbformat_minor": 2
}
