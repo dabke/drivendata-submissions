{
 "cells": [
  {
   "cell_type": "code",
   "execution_count": 1,
   "metadata": {},
   "outputs": [],
   "source": [
    "import pandas as pd"
   ]
  },
  {
   "cell_type": "markdown",
   "metadata": {},
   "source": [
    "## Peek at train"
   ]
  },
  {
   "cell_type": "code",
   "execution_count": 18,
   "metadata": {},
   "outputs": [
    {
     "data": {
      "text/plain": [
       "(400277, 25)"
      ]
     },
     "execution_count": 18,
     "metadata": {},
     "output_type": "execute_result"
    }
   ],
   "source": [
    "train = pd.read_csv('data_in/TrainingData.csv', na_values=['NO_LABEL'])\n",
    "assert not train['Unnamed: 0'].duplicated().any()\n",
    "train = train.set_index(\"Unnamed: 0\")\n",
    "train.shape"
   ]
  },
  {
   "cell_type": "code",
   "execution_count": 19,
   "metadata": {},
   "outputs": [
    {
     "data": {
      "text/plain": [
       "Index(['Function', 'Use', 'Sharing', 'Reporting', 'Student_Type',\n",
       "       'Position_Type', 'Object_Type', 'Pre_K', 'Operating_Status',\n",
       "       'Object_Description', 'Text_2', 'SubFund_Description',\n",
       "       'Job_Title_Description', 'Text_3', 'Text_4', 'Sub_Object_Description',\n",
       "       'Location_Description', 'FTE', 'Function_Description',\n",
       "       'Facility_or_Department', 'Position_Extra', 'Total',\n",
       "       'Program_Description', 'Fund_Description', 'Text_1'],\n",
       "      dtype='object')"
      ]
     },
     "execution_count": 19,
     "metadata": {},
     "output_type": "execute_result"
    }
   ],
   "source": [
    "train.columns"
   ]
  },
  {
   "cell_type": "code",
   "execution_count": 20,
   "metadata": {},
   "outputs": [
    {
     "data": {
      "text/html": [
       "<div>\n",
       "<style scoped>\n",
       "    .dataframe tbody tr th:only-of-type {\n",
       "        vertical-align: middle;\n",
       "    }\n",
       "\n",
       "    .dataframe tbody tr th {\n",
       "        vertical-align: top;\n",
       "    }\n",
       "\n",
       "    .dataframe thead th {\n",
       "        text-align: right;\n",
       "    }\n",
       "</style>\n",
       "<table border=\"1\" class=\"dataframe\">\n",
       "  <thead>\n",
       "    <tr style=\"text-align: right;\">\n",
       "      <th></th>\n",
       "      <th>Function</th>\n",
       "      <th>Use</th>\n",
       "      <th>Sharing</th>\n",
       "      <th>Reporting</th>\n",
       "      <th>Student_Type</th>\n",
       "      <th>Position_Type</th>\n",
       "      <th>Object_Type</th>\n",
       "      <th>Pre_K</th>\n",
       "      <th>Operating_Status</th>\n",
       "      <th>Object_Description</th>\n",
       "      <th>...</th>\n",
       "      <th>Sub_Object_Description</th>\n",
       "      <th>Location_Description</th>\n",
       "      <th>FTE</th>\n",
       "      <th>Function_Description</th>\n",
       "      <th>Facility_or_Department</th>\n",
       "      <th>Position_Extra</th>\n",
       "      <th>Total</th>\n",
       "      <th>Program_Description</th>\n",
       "      <th>Fund_Description</th>\n",
       "      <th>Text_1</th>\n",
       "    </tr>\n",
       "    <tr>\n",
       "      <th>Unnamed: 0</th>\n",
       "      <th></th>\n",
       "      <th></th>\n",
       "      <th></th>\n",
       "      <th></th>\n",
       "      <th></th>\n",
       "      <th></th>\n",
       "      <th></th>\n",
       "      <th></th>\n",
       "      <th></th>\n",
       "      <th></th>\n",
       "      <th></th>\n",
       "      <th></th>\n",
       "      <th></th>\n",
       "      <th></th>\n",
       "      <th></th>\n",
       "      <th></th>\n",
       "      <th></th>\n",
       "      <th></th>\n",
       "      <th></th>\n",
       "      <th></th>\n",
       "      <th></th>\n",
       "    </tr>\n",
       "  </thead>\n",
       "  <tbody>\n",
       "    <tr>\n",
       "      <th>134338</th>\n",
       "      <td>Teacher Compensation</td>\n",
       "      <td>Instruction</td>\n",
       "      <td>School Reported</td>\n",
       "      <td>School</td>\n",
       "      <td>NaN</td>\n",
       "      <td>Teacher</td>\n",
       "      <td>NaN</td>\n",
       "      <td>NaN</td>\n",
       "      <td>PreK-12 Operating</td>\n",
       "      <td>NaN</td>\n",
       "      <td>...</td>\n",
       "      <td>NaN</td>\n",
       "      <td>NaN</td>\n",
       "      <td>1.0</td>\n",
       "      <td>NaN</td>\n",
       "      <td>NaN</td>\n",
       "      <td>KINDERGARTEN</td>\n",
       "      <td>50471.810</td>\n",
       "      <td>KINDERGARTEN</td>\n",
       "      <td>General Fund</td>\n",
       "      <td>NaN</td>\n",
       "    </tr>\n",
       "    <tr>\n",
       "      <th>206341</th>\n",
       "      <td>NaN</td>\n",
       "      <td>NaN</td>\n",
       "      <td>NaN</td>\n",
       "      <td>NaN</td>\n",
       "      <td>NaN</td>\n",
       "      <td>NaN</td>\n",
       "      <td>NaN</td>\n",
       "      <td>NaN</td>\n",
       "      <td>Non-Operating</td>\n",
       "      <td>CONTRACTOR SERVICES</td>\n",
       "      <td>...</td>\n",
       "      <td>NaN</td>\n",
       "      <td>NaN</td>\n",
       "      <td>NaN</td>\n",
       "      <td>RGN  GOB</td>\n",
       "      <td>NaN</td>\n",
       "      <td>UNDESIGNATED</td>\n",
       "      <td>3477.860</td>\n",
       "      <td>BUILDING IMPROVEMENT SERVICES</td>\n",
       "      <td>NaN</td>\n",
       "      <td>BUILDING IMPROVEMENT SERVICES</td>\n",
       "    </tr>\n",
       "    <tr>\n",
       "      <th>326408</th>\n",
       "      <td>Teacher Compensation</td>\n",
       "      <td>Instruction</td>\n",
       "      <td>School Reported</td>\n",
       "      <td>School</td>\n",
       "      <td>Unspecified</td>\n",
       "      <td>Teacher</td>\n",
       "      <td>Base Salary/Compensation</td>\n",
       "      <td>Non PreK</td>\n",
       "      <td>PreK-12 Operating</td>\n",
       "      <td>Personal Services - Teachers</td>\n",
       "      <td>...</td>\n",
       "      <td>NaN</td>\n",
       "      <td>NaN</td>\n",
       "      <td>1.0</td>\n",
       "      <td>NaN</td>\n",
       "      <td>NaN</td>\n",
       "      <td>TEACHER</td>\n",
       "      <td>62237.130</td>\n",
       "      <td>Instruction - Regular</td>\n",
       "      <td>General Purpose School</td>\n",
       "      <td>NaN</td>\n",
       "    </tr>\n",
       "    <tr>\n",
       "      <th>364634</th>\n",
       "      <td>Substitute Compensation</td>\n",
       "      <td>Instruction</td>\n",
       "      <td>School Reported</td>\n",
       "      <td>School</td>\n",
       "      <td>Unspecified</td>\n",
       "      <td>Substitute</td>\n",
       "      <td>Benefits</td>\n",
       "      <td>NaN</td>\n",
       "      <td>PreK-12 Operating</td>\n",
       "      <td>EMPLOYEE BENEFITS</td>\n",
       "      <td>...</td>\n",
       "      <td>NaN</td>\n",
       "      <td>NaN</td>\n",
       "      <td>NaN</td>\n",
       "      <td>UNALLOC BUDGETS/SCHOOLS</td>\n",
       "      <td>NaN</td>\n",
       "      <td>PROFESSIONAL-INSTRUCTIONAL</td>\n",
       "      <td>22.300</td>\n",
       "      <td>GENERAL MIDDLE/JUNIOR HIGH SCH</td>\n",
       "      <td>NaN</td>\n",
       "      <td>REGULAR INSTRUCTION</td>\n",
       "    </tr>\n",
       "    <tr>\n",
       "      <th>47683</th>\n",
       "      <td>Substitute Compensation</td>\n",
       "      <td>Instruction</td>\n",
       "      <td>School Reported</td>\n",
       "      <td>School</td>\n",
       "      <td>Unspecified</td>\n",
       "      <td>Teacher</td>\n",
       "      <td>Substitute Compensation</td>\n",
       "      <td>NaN</td>\n",
       "      <td>PreK-12 Operating</td>\n",
       "      <td>TEACHER COVERAGE FOR TEACHER</td>\n",
       "      <td>...</td>\n",
       "      <td>NaN</td>\n",
       "      <td>NaN</td>\n",
       "      <td>NaN</td>\n",
       "      <td>NON-PROJECT</td>\n",
       "      <td>NaN</td>\n",
       "      <td>PROFESSIONAL-INSTRUCTIONAL</td>\n",
       "      <td>54.166</td>\n",
       "      <td>GENERAL HIGH SCHOOL EDUCATION</td>\n",
       "      <td>NaN</td>\n",
       "      <td>REGULAR INSTRUCTION</td>\n",
       "    </tr>\n",
       "  </tbody>\n",
       "</table>\n",
       "<p>5 rows × 25 columns</p>\n",
       "</div>"
      ],
      "text/plain": [
       "                           Function          Use          Sharing Reporting  \\\n",
       "Unnamed: 0                                                                    \n",
       "134338         Teacher Compensation  Instruction  School Reported    School   \n",
       "206341                          NaN          NaN              NaN       NaN   \n",
       "326408         Teacher Compensation  Instruction  School Reported    School   \n",
       "364634      Substitute Compensation  Instruction  School Reported    School   \n",
       "47683       Substitute Compensation  Instruction  School Reported    School   \n",
       "\n",
       "           Student_Type Position_Type               Object_Type     Pre_K  \\\n",
       "Unnamed: 0                                                                  \n",
       "134338              NaN       Teacher                       NaN       NaN   \n",
       "206341              NaN           NaN                       NaN       NaN   \n",
       "326408      Unspecified       Teacher  Base Salary/Compensation  Non PreK   \n",
       "364634      Unspecified    Substitute                  Benefits       NaN   \n",
       "47683       Unspecified       Teacher   Substitute Compensation       NaN   \n",
       "\n",
       "             Operating_Status            Object_Description  \\\n",
       "Unnamed: 0                                                    \n",
       "134338      PreK-12 Operating                           NaN   \n",
       "206341          Non-Operating           CONTRACTOR SERVICES   \n",
       "326408      PreK-12 Operating  Personal Services - Teachers   \n",
       "364634      PreK-12 Operating             EMPLOYEE BENEFITS   \n",
       "47683       PreK-12 Operating  TEACHER COVERAGE FOR TEACHER   \n",
       "\n",
       "                        ...               Sub_Object_Description  \\\n",
       "Unnamed: 0              ...                                        \n",
       "134338                  ...                                  NaN   \n",
       "206341                  ...                                  NaN   \n",
       "326408                  ...                                  NaN   \n",
       "364634                  ...                                  NaN   \n",
       "47683                   ...                                  NaN   \n",
       "\n",
       "           Location_Description  FTE     Function_Description  \\\n",
       "Unnamed: 0                                                      \n",
       "134338                      NaN  1.0                      NaN   \n",
       "206341                      NaN  NaN                 RGN  GOB   \n",
       "326408                      NaN  1.0                      NaN   \n",
       "364634                      NaN  NaN  UNALLOC BUDGETS/SCHOOLS   \n",
       "47683                       NaN  NaN              NON-PROJECT   \n",
       "\n",
       "           Facility_or_Department              Position_Extra      Total  \\\n",
       "Unnamed: 0                                                                 \n",
       "134338                        NaN               KINDERGARTEN   50471.810   \n",
       "206341                        NaN                UNDESIGNATED   3477.860   \n",
       "326408                        NaN                     TEACHER  62237.130   \n",
       "364634                        NaN  PROFESSIONAL-INSTRUCTIONAL     22.300   \n",
       "47683                         NaN  PROFESSIONAL-INSTRUCTIONAL     54.166   \n",
       "\n",
       "                       Program_Description        Fund_Description  \\\n",
       "Unnamed: 0                                                           \n",
       "134338                        KINDERGARTEN            General Fund   \n",
       "206341       BUILDING IMPROVEMENT SERVICES                     NaN   \n",
       "326408               Instruction - Regular  General Purpose School   \n",
       "364634      GENERAL MIDDLE/JUNIOR HIGH SCH                     NaN   \n",
       "47683        GENERAL HIGH SCHOOL EDUCATION                     NaN   \n",
       "\n",
       "                                   Text_1  \n",
       "Unnamed: 0                                 \n",
       "134338                                NaN  \n",
       "206341      BUILDING IMPROVEMENT SERVICES  \n",
       "326408                                NaN  \n",
       "364634                REGULAR INSTRUCTION  \n",
       "47683                 REGULAR INSTRUCTION  \n",
       "\n",
       "[5 rows x 25 columns]"
      ]
     },
     "execution_count": 20,
     "metadata": {},
     "output_type": "execute_result"
    }
   ],
   "source": [
    "train.head()"
   ]
  },
  {
   "cell_type": "markdown",
   "metadata": {},
   "source": [
    "## Peek at test"
   ]
  },
  {
   "cell_type": "code",
   "execution_count": 21,
   "metadata": {},
   "outputs": [
    {
     "name": "stderr",
     "output_type": "stream",
     "text": [
      "/home/ubuntu/.local/share/virtualenvs/DRIVENDATA_SUBMISSIONS/lib/python3.5/site-packages/IPython/core/interactiveshell.py:2728: DtypeWarning: Columns (5,11) have mixed types. Specify dtype option on import or set low_memory=False.\n",
      "  interactivity=interactivity, compiler=compiler, result=result)\n"
     ]
    },
    {
     "data": {
      "text/plain": [
       "(50064, 16)"
      ]
     },
     "execution_count": 21,
     "metadata": {},
     "output_type": "execute_result"
    }
   ],
   "source": [
    "test = pd.read_csv('data_in/TestData.csv', na_values=['NO_LABEL'])\n",
    "assert not test['Unnamed: 0'].duplicated().any()\n",
    "test = test.set_index(\"Unnamed: 0\")\n",
    "test.shape"
   ]
  },
  {
   "cell_type": "code",
   "execution_count": 22,
   "metadata": {},
   "outputs": [
    {
     "data": {
      "text/plain": [
       "Index(['Object_Description', 'Program_Description', 'SubFund_Description',\n",
       "       'Job_Title_Description', 'Facility_or_Department',\n",
       "       'Sub_Object_Description', 'Location_Description', 'FTE',\n",
       "       'Function_Description', 'Position_Extra', 'Text_4', 'Total', 'Text_2',\n",
       "       'Text_3', 'Fund_Description', 'Text_1'],\n",
       "      dtype='object')"
      ]
     },
     "execution_count": 22,
     "metadata": {},
     "output_type": "execute_result"
    }
   ],
   "source": [
    "test.columns"
   ]
  },
  {
   "cell_type": "code",
   "execution_count": 6,
   "metadata": {},
   "outputs": [
    {
     "data": {
      "text/html": [
       "<div>\n",
       "<style scoped>\n",
       "    .dataframe tbody tr th:only-of-type {\n",
       "        vertical-align: middle;\n",
       "    }\n",
       "\n",
       "    .dataframe tbody tr th {\n",
       "        vertical-align: top;\n",
       "    }\n",
       "\n",
       "    .dataframe thead th {\n",
       "        text-align: right;\n",
       "    }\n",
       "</style>\n",
       "<table border=\"1\" class=\"dataframe\">\n",
       "  <thead>\n",
       "    <tr style=\"text-align: right;\">\n",
       "      <th></th>\n",
       "      <th>Object_Description</th>\n",
       "      <th>Program_Description</th>\n",
       "      <th>SubFund_Description</th>\n",
       "      <th>Job_Title_Description</th>\n",
       "      <th>Facility_or_Department</th>\n",
       "      <th>Sub_Object_Description</th>\n",
       "      <th>Location_Description</th>\n",
       "      <th>FTE</th>\n",
       "      <th>Function_Description</th>\n",
       "      <th>Position_Extra</th>\n",
       "      <th>Text_4</th>\n",
       "      <th>Total</th>\n",
       "      <th>Text_2</th>\n",
       "      <th>Text_3</th>\n",
       "      <th>Fund_Description</th>\n",
       "      <th>Text_1</th>\n",
       "    </tr>\n",
       "    <tr>\n",
       "      <th>Unnamed: 0</th>\n",
       "      <th></th>\n",
       "      <th></th>\n",
       "      <th></th>\n",
       "      <th></th>\n",
       "      <th></th>\n",
       "      <th></th>\n",
       "      <th></th>\n",
       "      <th></th>\n",
       "      <th></th>\n",
       "      <th></th>\n",
       "      <th></th>\n",
       "      <th></th>\n",
       "      <th></th>\n",
       "      <th></th>\n",
       "      <th></th>\n",
       "      <th></th>\n",
       "    </tr>\n",
       "  </thead>\n",
       "  <tbody>\n",
       "    <tr>\n",
       "      <th>180042</th>\n",
       "      <td>Student Meals/Room/Other</td>\n",
       "      <td>Basic Educational Services</td>\n",
       "      <td>NaN</td>\n",
       "      <td>NaN</td>\n",
       "      <td>NaN</td>\n",
       "      <td>Line Item that is paid with Campus' money</td>\n",
       "      <td>School</td>\n",
       "      <td>NaN</td>\n",
       "      <td>Instruction</td>\n",
       "      <td>NaN</td>\n",
       "      <td>NaN</td>\n",
       "      <td>3999.910000</td>\n",
       "      <td>NaN</td>\n",
       "      <td>NaN</td>\n",
       "      <td>General Fund</td>\n",
       "      <td>NaN</td>\n",
       "    </tr>\n",
       "    <tr>\n",
       "      <th>28872</th>\n",
       "      <td>Extra Duty/Signing Bonus Pay</td>\n",
       "      <td>Undistributed</td>\n",
       "      <td>NaN</td>\n",
       "      <td>CHEERLEADER DIR</td>\n",
       "      <td>NaN</td>\n",
       "      <td>General</td>\n",
       "      <td>School</td>\n",
       "      <td>NaN</td>\n",
       "      <td>Cocurricular &amp; Extra Curricular Activities</td>\n",
       "      <td>NaN</td>\n",
       "      <td>NaN</td>\n",
       "      <td>3447.320213</td>\n",
       "      <td>NaN</td>\n",
       "      <td>NaN</td>\n",
       "      <td>General Fund</td>\n",
       "      <td>NaN</td>\n",
       "    </tr>\n",
       "    <tr>\n",
       "      <th>186915</th>\n",
       "      <td>Professional Salaries</td>\n",
       "      <td>Bilingual Education</td>\n",
       "      <td>NaN</td>\n",
       "      <td>T-EL 1ST BIL</td>\n",
       "      <td>NaN</td>\n",
       "      <td>General</td>\n",
       "      <td>School</td>\n",
       "      <td>1.0</td>\n",
       "      <td>Instruction</td>\n",
       "      <td>NaN</td>\n",
       "      <td>NaN</td>\n",
       "      <td>52738.780869</td>\n",
       "      <td>NaN</td>\n",
       "      <td>NaN</td>\n",
       "      <td>General Fund</td>\n",
       "      <td>NaN</td>\n",
       "    </tr>\n",
       "    <tr>\n",
       "      <th>412396</th>\n",
       "      <td>Professional Salaries</td>\n",
       "      <td>Bilingual Education</td>\n",
       "      <td>NaN</td>\n",
       "      <td>T-EL 2ND BIL</td>\n",
       "      <td>NaN</td>\n",
       "      <td>General</td>\n",
       "      <td>School</td>\n",
       "      <td>1.0</td>\n",
       "      <td>Instruction</td>\n",
       "      <td>NaN</td>\n",
       "      <td>NaN</td>\n",
       "      <td>69729.263191</td>\n",
       "      <td>NaN</td>\n",
       "      <td>NaN</td>\n",
       "      <td>General Fund</td>\n",
       "      <td>NaN</td>\n",
       "    </tr>\n",
       "    <tr>\n",
       "      <th>427740</th>\n",
       "      <td>Salaries for Support Personnel</td>\n",
       "      <td>Undistributed</td>\n",
       "      <td>NaN</td>\n",
       "      <td>CLERK III- SCH</td>\n",
       "      <td>NaN</td>\n",
       "      <td>General</td>\n",
       "      <td>School</td>\n",
       "      <td>1.0</td>\n",
       "      <td>School Leadership</td>\n",
       "      <td>NaN</td>\n",
       "      <td>NaN</td>\n",
       "      <td>29492.834215</td>\n",
       "      <td>NaN</td>\n",
       "      <td>NaN</td>\n",
       "      <td>General Fund</td>\n",
       "      <td>NaN</td>\n",
       "    </tr>\n",
       "  </tbody>\n",
       "</table>\n",
       "</div>"
      ],
      "text/plain": [
       "                        Object_Description         Program_Description  \\\n",
       "Unnamed: 0                                                               \n",
       "180042            Student Meals/Room/Other  Basic Educational Services   \n",
       "28872         Extra Duty/Signing Bonus Pay               Undistributed   \n",
       "186915               Professional Salaries         Bilingual Education   \n",
       "412396               Professional Salaries         Bilingual Education   \n",
       "427740      Salaries for Support Personnel               Undistributed   \n",
       "\n",
       "           SubFund_Description Job_Title_Description Facility_or_Department  \\\n",
       "Unnamed: 0                                                                    \n",
       "180042                     NaN                   NaN                    NaN   \n",
       "28872                      NaN       CHEERLEADER DIR                    NaN   \n",
       "186915                     NaN          T-EL 1ST BIL                    NaN   \n",
       "412396                     NaN          T-EL 2ND BIL                    NaN   \n",
       "427740                     NaN        CLERK III- SCH                    NaN   \n",
       "\n",
       "                               Sub_Object_Description Location_Description  \\\n",
       "Unnamed: 0                                                                   \n",
       "180042      Line Item that is paid with Campus' money              School    \n",
       "28872                                         General              School    \n",
       "186915                                        General              School    \n",
       "412396                                        General              School    \n",
       "427740                                        General              School    \n",
       "\n",
       "            FTE                        Function_Description Position_Extra  \\\n",
       "Unnamed: 0                                                                   \n",
       "180042      NaN                                 Instruction            NaN   \n",
       "28872       NaN  Cocurricular & Extra Curricular Activities            NaN   \n",
       "186915      1.0                                 Instruction            NaN   \n",
       "412396      1.0                                 Instruction            NaN   \n",
       "427740      1.0                           School Leadership            NaN   \n",
       "\n",
       "           Text_4         Total Text_2 Text_3 Fund_Description Text_1  \n",
       "Unnamed: 0                                                             \n",
       "180042        NaN   3999.910000    NaN    NaN     General Fund    NaN  \n",
       "28872         NaN   3447.320213    NaN    NaN     General Fund    NaN  \n",
       "186915        NaN  52738.780869    NaN    NaN     General Fund    NaN  \n",
       "412396        NaN  69729.263191    NaN    NaN     General Fund    NaN  \n",
       "427740        NaN  29492.834215    NaN    NaN     General Fund    NaN  "
      ]
     },
     "execution_count": 6,
     "metadata": {},
     "output_type": "execute_result"
    }
   ],
   "source": [
    "test.head()"
   ]
  },
  {
   "cell_type": "markdown",
   "metadata": {},
   "source": [
    "## Diff columns"
   ]
  },
  {
   "cell_type": "code",
   "execution_count": 17,
   "metadata": {},
   "outputs": [
    {
     "data": {
      "text/plain": [
       "({'Function',\n",
       "  'Object_Type',\n",
       "  'Operating_Status',\n",
       "  'Position_Type',\n",
       "  'Pre_K',\n",
       "  'Reporting',\n",
       "  'Sharing',\n",
       "  'Student_Type',\n",
       "  'Use'},\n",
       " set())"
      ]
     },
     "execution_count": 17,
     "metadata": {},
     "output_type": "execute_result"
    }
   ],
   "source": [
    "#train.loc[134338]\n",
    "# pd.isnull(train['Function']).any()\n",
    "# pd.isnull(test['Function']).any()\n",
    "set(train.columns) - set(test.columns), set(test.columns) - set(train.columns)"
   ]
  },
  {
   "cell_type": "markdown",
   "metadata": {},
   "source": [
    "# Some guessing"
   ]
  },
  {
   "cell_type": "markdown",
   "metadata": {},
   "source": [
    "Function = Teacher Compensation   =>  Use = Instruction"
   ]
  },
  {
   "cell_type": "code",
   "execution_count": 9,
   "metadata": {},
   "outputs": [
    {
     "data": {
      "text/plain": [
       "{'Instruction'}"
      ]
     },
     "execution_count": 9,
     "metadata": {},
     "output_type": "execute_result"
    }
   ],
   "source": [
    "set(train['Use'][train['Function']=='Teacher Compensation'].values)"
   ]
  },
  {
   "cell_type": "markdown",
   "metadata": {},
   "source": [
    "Position Extra = TEACHER   =?=>  Function = Teacher Compensation"
   ]
  },
  {
   "cell_type": "code",
   "execution_count": 12,
   "metadata": {},
   "outputs": [
    {
     "data": {
      "text/plain": [
       "Teacher Compensation          3775\n",
       "Professional Development        87\n",
       "Aides Compensation              38\n",
       "Physical Health & Services       8\n",
       "NO_LABEL                         7\n",
       "Student Transportation           5\n",
       "Substitute Compensation          2\n",
       "Extended Time & Tutoring         1\n",
       "Social & Emotional               1\n",
       "Name: Function, dtype: int64"
      ]
     },
     "execution_count": 12,
     "metadata": {},
     "output_type": "execute_result"
    }
   ],
   "source": [
    "train['Function'][train['Position_Extra']=='TEACHER'].value_counts()"
   ]
  },
  {
   "cell_type": "code",
   "execution_count": 16,
   "metadata": {},
   "outputs": [
    {
     "data": {
      "text/plain": [
       "PROFESSIONAL-INSTRUCTIONAL    38621\n",
       "UNDESIGNATED                  12130\n",
       "TEACHER BACHELOR               6888\n",
       "TEACHER                        3775\n",
       "TIME CARD CERTIFIEDAddl        2571\n",
       "Name: Position_Extra, dtype: int64"
      ]
     },
     "execution_count": 16,
     "metadata": {},
     "output_type": "execute_result"
    }
   ],
   "source": [
    "train['Position_Extra'][train['Function']=='Teacher Compensation'].value_counts().head()"
   ]
  },
  {
   "cell_type": "code",
   "execution_count": 11,
   "metadata": {},
   "outputs": [
    {
     "data": {
      "text/plain": [
       "((3924,), (400277, 25))"
      ]
     },
     "execution_count": 11,
     "metadata": {},
     "output_type": "execute_result"
    }
   ],
   "source": [
    "train['Function'][train['Position_Extra']=='TEACHER'].shape, train.shape"
   ]
  },
  {
   "cell_type": "code",
   "execution_count": 13,
   "metadata": {},
   "outputs": [
    {
     "data": {
      "text/plain": [
       "((184, 16), (50064, 16))"
      ]
     },
     "execution_count": 13,
     "metadata": {},
     "output_type": "execute_result"
    }
   ],
   "source": [
    "test[test['Position_Extra']=='TEACHER'].shape, test.shape"
   ]
  },
  {
   "cell_type": "markdown",
   "metadata": {},
   "source": [
    "## Read labels"
   ]
  },
  {
   "cell_type": "code",
   "execution_count": 28,
   "metadata": {},
   "outputs": [],
   "source": [
    "import yaml\n",
    "labels = yaml.load(open(\"labels.yml\",'r'))"
   ]
  },
  {
   "cell_type": "code",
   "execution_count": 29,
   "metadata": {},
   "outputs": [
    {
     "data": {
      "text/plain": [
       "{'Function': ['Aides Compensation',\n",
       "  'Career & Academic Counseling',\n",
       "  'Communications',\n",
       "  'Curriculum Development',\n",
       "  'Data Processing & Information Services',\n",
       "  'Development & Fundraising',\n",
       "  'Enrichment',\n",
       "  'Extended Time & Tutoring',\n",
       "  'Facilities & Maintenance',\n",
       "  'Facilities Planning',\n",
       "  'Finance, Budget, Purchasing & Distribution',\n",
       "  'Food Services',\n",
       "  'Governance',\n",
       "  'Human Resources',\n",
       "  'Instructional Materials & Supplies',\n",
       "  'Insurance',\n",
       "  'Legal',\n",
       "  'Library & Media',\n",
       "  'NO_LABEL',\n",
       "  'Other Compensation',\n",
       "  'Other Non-Compensation',\n",
       "  'Parent & Community Relations',\n",
       "  'Physical Health & Services',\n",
       "  'Professional Development',\n",
       "  'Recruitment',\n",
       "  'Research & Accountability',\n",
       "  'School Administration',\n",
       "  'School Supervision',\n",
       "  'Security & Safety',\n",
       "  'Social & Emotional',\n",
       "  'Special Population Program Management & Support',\n",
       "  'Student Assignment',\n",
       "  'Student Transportation',\n",
       "  'Substitute Compensation',\n",
       "  'Teacher Compensation',\n",
       "  'Untracked Budget Set-Aside',\n",
       "  'Utilities'],\n",
       " 'Object_Type': ['Base Salary/Compensation',\n",
       "  'Benefits',\n",
       "  'Contracted Services',\n",
       "  'Equipment & Equipment Lease',\n",
       "  'NO_LABEL',\n",
       "  'Other Compensation/Stipend',\n",
       "  'Other Non-Compensation',\n",
       "  'Rent/Utilities',\n",
       "  'Substitute Compensation',\n",
       "  'Supplies/Materials',\n",
       "  'Travel & Conferences'],\n",
       " 'Operating_Status': ['Non-Operating',\n",
       "  'Operating, Not PreK-12',\n",
       "  'PreK-12 Operating'],\n",
       " 'Position_Type': ['(Exec) Director',\n",
       "  'Area Officers',\n",
       "  'Club Advisor/Coach',\n",
       "  'Coordinator/Manager',\n",
       "  'Custodian',\n",
       "  'Guidance Counselor',\n",
       "  'Instructional Coach',\n",
       "  'Librarian',\n",
       "  'NO_LABEL',\n",
       "  'Non-Position',\n",
       "  'Nurse',\n",
       "  'Nurse Aide',\n",
       "  'Occupational Therapist',\n",
       "  'Other',\n",
       "  'Physical Therapist',\n",
       "  'Principal',\n",
       "  'Psychologist',\n",
       "  'School Monitor/Security',\n",
       "  'Sec/Clerk/Other Admin',\n",
       "  'Social Worker',\n",
       "  'Speech Therapist',\n",
       "  'Substitute',\n",
       "  'TA',\n",
       "  'Teacher',\n",
       "  'Vice Principal'],\n",
       " 'Pre_K': ['NO_LABEL', 'Non PreK', 'PreK'],\n",
       " 'Reporting': ['NO_LABEL', 'Non-School', 'School'],\n",
       " 'Sharing': ['Leadership & Management',\n",
       "  'NO_LABEL',\n",
       "  'School Reported',\n",
       "  'School on Central Budgets',\n",
       "  'Shared Services'],\n",
       " 'Student_Type': ['Alternative',\n",
       "  'At Risk',\n",
       "  'ELL',\n",
       "  'Gifted',\n",
       "  'NO_LABEL',\n",
       "  'Poverty',\n",
       "  'PreK',\n",
       "  'Special Education',\n",
       "  'Unspecified'],\n",
       " 'Use': ['Business Services',\n",
       "  'ISPD',\n",
       "  'Instruction',\n",
       "  'Leadership',\n",
       "  'NO_LABEL',\n",
       "  'O&M',\n",
       "  'Pupil Services & Enrichment',\n",
       "  'Untracked Budget Set-Aside']}"
      ]
     },
     "execution_count": 29,
     "metadata": {},
     "output_type": "execute_result"
    }
   ],
   "source": [
    "labels"
   ]
  },
  {
   "cell_type": "markdown",
   "metadata": {},
   "source": [
    "## Calculate probabilities from training data"
   ]
  },
  {
   "cell_type": "code",
   "execution_count": 41,
   "metadata": {},
   "outputs": [
    {
     "data": {
      "text/plain": [
       "['Operating_Status__Non-Operating',\n",
       " 'Operating_Status__Operating, Not PreK-12',\n",
       " 'Operating_Status__PreK-12 Operating',\n",
       " 'Pre_K__NO_LABEL',\n",
       " 'Pre_K__Non PreK']"
      ]
     },
     "execution_count": 41,
     "metadata": {},
     "output_type": "execute_result"
    }
   ],
   "source": [
    "# Function': ['Aides Compensation\n",
    "prediction_names = []\n",
    "for k,v1 in labels.items():\n",
    "    for v2 in v1:\n",
    "        prediction_names.append(\"%s__%s\"%(k,v2))\n",
    "        \n",
    "        \n",
    "assert 'Function__Aides Compensation' in prediction_names\n",
    "prediction_names[:5]"
   ]
  },
  {
   "cell_type": "code",
   "execution_count": null,
   "metadata": {},
   "outputs": [],
   "source": [
    "train_prob = pd.DataFrame(columns=prediction_names)\n",
    "train_prob.head()"
   ]
  }
 ],
 "metadata": {
  "kernelspec": {
   "display_name": "Python 3",
   "language": "python",
   "name": "python3"
  },
  "language_info": {
   "codemirror_mode": {
    "name": "ipython",
    "version": 3
   },
   "file_extension": ".py",
   "mimetype": "text/x-python",
   "name": "python",
   "nbconvert_exporter": "python",
   "pygments_lexer": "ipython3",
   "version": "3.5.2"
  }
 },
 "nbformat": 4,
 "nbformat_minor": 2
}
