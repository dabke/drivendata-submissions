{
 "cells": [
  {
   "cell_type": "code",
   "execution_count": 1,
   "metadata": {},
   "outputs": [
    {
     "name": "stderr",
     "output_type": "stream",
     "text": [
      "/home/ubuntu/.local/share/virtualenvs/DRIVENDATA_SUBMISSIONS/lib/python3.6/site-packages/matplotlib/__init__.py:1067: UserWarning: Duplicate key in file \"/home/ubuntu/.config/matplotlib/matplotlibrc\", line #2\n",
      "  (fname, cnt))\n",
      "/home/ubuntu/.local/share/virtualenvs/DRIVENDATA_SUBMISSIONS/lib/python3.6/site-packages/matplotlib/__init__.py:1067: UserWarning: Duplicate key in file \"/home/ubuntu/.config/matplotlib/matplotlibrc\", line #3\n",
      "  (fname, cnt))\n"
     ]
    },
    {
     "name": "stdout",
     "output_type": "stream",
     "text": [
      "[name: \"/device:CPU:0\"\n",
      "device_type: \"CPU\"\n",
      "memory_limit: 268435456\n",
      "locality {\n",
      "}\n",
      "incarnation: 5441526008757758745\n",
      ", name: \"/device:GPU:0\"\n",
      "device_type: \"GPU\"\n",
      "memory_limit: 11286970368\n",
      "locality {\n",
      "  bus_id: 1\n",
      "  links {\n",
      "  }\n",
      "}\n",
      "incarnation: 12645229719139855654\n",
      "physical_device_desc: \"device: 0, name: Tesla K80, pci bus id: 0000:00:1e.0, compute capability: 3.7\"\n",
      "]\n"
     ]
    }
   ],
   "source": [
    "# http://stackoverflow.com/questions/44544766/ddg#44547144\n",
    "from tensorflow.python.client import device_lib\n",
    "print(device_lib.list_local_devices())"
   ]
  },
  {
   "cell_type": "code",
   "execution_count": 2,
   "metadata": {},
   "outputs": [
    {
     "name": "stderr",
     "output_type": "stream",
     "text": [
      "Using TensorFlow backend.\n"
     ]
    }
   ],
   "source": [
    "import numpy as np\n",
    "import pandas as pd\n",
    "import time\n",
    "import seaborn as sns\n",
    "from matplotlib import pyplot as plt\n",
    "import keras"
   ]
  },
  {
   "cell_type": "code",
   "execution_count": 3,
   "metadata": {},
   "outputs": [],
   "source": [
    "def pd_read_csv(fn:str):\n",
    "    x = pd.read_csv(fn, na_values=['NO_LABEL', '(blank)'])\n",
    "    assert not x['Unnamed: 0'].duplicated().any()\n",
    "    x = x.set_index(\"Unnamed: 0\")\n",
    "    return x"
   ]
  },
  {
   "cell_type": "markdown",
   "metadata": {},
   "source": [
    "## Peek at train"
   ]
  },
  {
   "cell_type": "code",
   "execution_count": 4,
   "metadata": {},
   "outputs": [
    {
     "data": {
      "text/plain": [
       "(400277, 25)"
      ]
     },
     "execution_count": 4,
     "metadata": {},
     "output_type": "execute_result"
    }
   ],
   "source": [
    "train = pd_read_csv('data_in/TrainingData.csv')\n",
    "train.shape"
   ]
  },
  {
   "cell_type": "code",
   "execution_count": 5,
   "metadata": {},
   "outputs": [
    {
     "data": {
      "text/plain": [
       "Index(['Function', 'Use', 'Sharing', 'Reporting', 'Student_Type',\n",
       "       'Position_Type', 'Object_Type', 'Pre_K', 'Operating_Status',\n",
       "       'Object_Description', 'Text_2', 'SubFund_Description',\n",
       "       'Job_Title_Description', 'Text_3', 'Text_4', 'Sub_Object_Description',\n",
       "       'Location_Description', 'FTE', 'Function_Description',\n",
       "       'Facility_or_Department', 'Position_Extra', 'Total',\n",
       "       'Program_Description', 'Fund_Description', 'Text_1'],\n",
       "      dtype='object')"
      ]
     },
     "execution_count": 5,
     "metadata": {},
     "output_type": "execute_result"
    }
   ],
   "source": [
    "train.columns"
   ]
  },
  {
   "cell_type": "markdown",
   "metadata": {},
   "source": [
    "## Peek at test"
   ]
  },
  {
   "cell_type": "code",
   "execution_count": 6,
   "metadata": {},
   "outputs": [
    {
     "name": "stderr",
     "output_type": "stream",
     "text": [
      "/home/ubuntu/.local/share/virtualenvs/DRIVENDATA_SUBMISSIONS/lib/python3.6/site-packages/IPython/core/interactiveshell.py:2903: DtypeWarning: Columns (5,11) have mixed types. Specify dtype option on import or set low_memory=False.\n",
      "  if self.run_code(code, result):\n"
     ]
    },
    {
     "data": {
      "text/plain": [
       "(50064, 16)"
      ]
     },
     "execution_count": 6,
     "metadata": {},
     "output_type": "execute_result"
    }
   ],
   "source": [
    "test = pd_read_csv('data_in/TestData.csv')\n",
    "test.shape"
   ]
  },
  {
   "cell_type": "code",
   "execution_count": 7,
   "metadata": {},
   "outputs": [
    {
     "data": {
      "text/plain": [
       "Index(['Object_Description', 'Program_Description', 'SubFund_Description',\n",
       "       'Job_Title_Description', 'Facility_or_Department',\n",
       "       'Sub_Object_Description', 'Location_Description', 'FTE',\n",
       "       'Function_Description', 'Position_Extra', 'Text_4', 'Total', 'Text_2',\n",
       "       'Text_3', 'Fund_Description', 'Text_1'],\n",
       "      dtype='object')"
      ]
     },
     "execution_count": 7,
     "metadata": {},
     "output_type": "execute_result"
    }
   ],
   "source": [
    "test.columns"
   ]
  },
  {
   "cell_type": "markdown",
   "metadata": {},
   "source": [
    "## Diff columns"
   ]
  },
  {
   "cell_type": "code",
   "execution_count": 8,
   "metadata": {},
   "outputs": [
    {
     "data": {
      "text/plain": [
       "({'Function',\n",
       "  'Object_Type',\n",
       "  'Operating_Status',\n",
       "  'Position_Type',\n",
       "  'Pre_K',\n",
       "  'Reporting',\n",
       "  'Sharing',\n",
       "  'Student_Type',\n",
       "  'Use'},\n",
       " set())"
      ]
     },
     "execution_count": 8,
     "metadata": {},
     "output_type": "execute_result"
    }
   ],
   "source": [
    "#train.loc[134338]\n",
    "# pd.isnull(train['Function']).any()\n",
    "# pd.isnull(test['Function']).any()\n",
    "set(train.columns) - set(test.columns), set(test.columns) - set(train.columns)"
   ]
  },
  {
   "cell_type": "markdown",
   "metadata": {},
   "source": [
    "## Read labels"
   ]
  },
  {
   "cell_type": "code",
   "execution_count": 9,
   "metadata": {},
   "outputs": [],
   "source": [
    "import yaml\n",
    "labels = yaml.load(open(\"labels.yml\",'r'))"
   ]
  },
  {
   "cell_type": "code",
   "execution_count": 10,
   "metadata": {},
   "outputs": [
    {
     "data": {
      "text/plain": [
       "['Function__Aides Compensation',\n",
       " 'Function__Career & Academic Counseling',\n",
       " 'Function__Communications',\n",
       " 'Function__Curriculum Development',\n",
       " 'Function__Data Processing & Information Services']"
      ]
     },
     "execution_count": 10,
     "metadata": {},
     "output_type": "execute_result"
    }
   ],
   "source": [
    "# Function': ['Aides Compensation\n",
    "prediction_names = []\n",
    "for k,v1 in labels.items():\n",
    "    for v2 in v1:\n",
    "        prediction_names.append(\"%s__%s\"%(k,v2))\n",
    "        \n",
    "        \n",
    "assert 'Function__Aides Compensation' in prediction_names\n",
    "prediction_names[:5]"
   ]
  },
  {
   "cell_type": "markdown",
   "metadata": {},
   "source": [
    "## Calculate counts"
   ]
  },
  {
   "cell_type": "code",
   "execution_count": 11,
   "metadata": {},
   "outputs": [
    {
     "data": {
      "text/plain": [
       "['Facility_or_Department',\n",
       " 'Function_Description',\n",
       " 'Fund_Description',\n",
       " 'Job_Title_Description',\n",
       " 'Location_Description',\n",
       " 'Object_Description',\n",
       " 'Position_Extra',\n",
       " 'Program_Description',\n",
       " 'SubFund_Description',\n",
       " 'Sub_Object_Description',\n",
       " 'Text_1',\n",
       " 'Text_2',\n",
       " 'Text_3',\n",
       " 'Text_4']"
      ]
     },
     "execution_count": 11,
     "metadata": {},
     "output_type": "execute_result"
    }
   ],
   "source": [
    "features = list(set(train.columns).intersection(set(test.columns)) - set(['FTE','Total']))\n",
    "features.sort()\n",
    "features"
   ]
  },
  {
   "cell_type": "code",
   "execution_count": 12,
   "metadata": {},
   "outputs": [
    {
     "data": {
      "text/plain": [
       "Facility_or_Department                       \n",
       "Function_Description                         \n",
       "Fund_Description                 General Fund\n",
       "Job_Title_Description     Teacher-Elementary \n",
       "Location_Description                         \n",
       "Object_Description                           \n",
       "Position_Extra                  KINDERGARTEN \n",
       "Program_Description              KINDERGARTEN\n",
       "SubFund_Description                          \n",
       "Sub_Object_Description                       \n",
       "Text_1                                       \n",
       "Text_2                                       \n",
       "Text_3                                       \n",
       "Text_4                                       \n",
       "Name: 134338, dtype: object"
      ]
     },
     "execution_count": 12,
     "metadata": {},
     "output_type": "execute_result"
    }
   ],
   "source": [
    "train[features].loc[134338].fillna('')"
   ]
  },
  {
   "cell_type": "code",
   "execution_count": 13,
   "metadata": {},
   "outputs": [],
   "source": [
    "train['joined'] = train[features].fillna('').apply(lambda x: \"~\".join([y.replace(' ','').replace('\"','') for y in x]), axis=1)"
   ]
  },
  {
   "cell_type": "code",
   "execution_count": 14,
   "metadata": {},
   "outputs": [],
   "source": [
    "stats = train['joined'].value_counts()"
   ]
  },
  {
   "cell_type": "code",
   "execution_count": 15,
   "metadata": {},
   "outputs": [
    {
     "data": {
      "text/html": [
       "<div>\n",
       "<style scoped>\n",
       "    .dataframe tbody tr th:only-of-type {\n",
       "        vertical-align: middle;\n",
       "    }\n",
       "\n",
       "    .dataframe tbody tr th {\n",
       "        vertical-align: top;\n",
       "    }\n",
       "\n",
       "    .dataframe thead th {\n",
       "        text-align: right;\n",
       "    }\n",
       "</style>\n",
       "<table border=\"1\" class=\"dataframe\">\n",
       "  <thead>\n",
       "    <tr style=\"text-align: right;\">\n",
       "      <th></th>\n",
       "      <th>index</th>\n",
       "      <th>joined</th>\n",
       "    </tr>\n",
       "  </thead>\n",
       "  <tbody>\n",
       "    <tr>\n",
       "      <th>0</th>\n",
       "      <td>~NON-PROJECT~~Teacher,Elementary~~CONTRABENEFI...</td>\n",
       "      <td>4130</td>\n",
       "    </tr>\n",
       "    <tr>\n",
       "      <th>1</th>\n",
       "      <td>~UNALLOCBUDGETS/SCHOOLS~~Teacher,ShortTermSub~...</td>\n",
       "      <td>3578</td>\n",
       "    </tr>\n",
       "    <tr>\n",
       "      <th>2</th>\n",
       "      <td>~~GeneralPurposeSchool~~~PersonalServices-Subs...</td>\n",
       "      <td>3269</td>\n",
       "    </tr>\n",
       "    <tr>\n",
       "      <th>3</th>\n",
       "      <td>~INSTRUCTION~GeneralFund~~~SUPPLIES~~PRIMARYGR...</td>\n",
       "      <td>3140</td>\n",
       "    </tr>\n",
       "    <tr>\n",
       "      <th>4</th>\n",
       "      <td>~UNALLOCBUDGETS/SCHOOLS~~Teacher,ShortTermSub~...</td>\n",
       "      <td>2951</td>\n",
       "    </tr>\n",
       "    <tr>\n",
       "      <th>5</th>\n",
       "      <td>~BASIC(FEFPK-12)~GENERALFUND~SUBTEACHERALL~Sch...</td>\n",
       "      <td>2549</td>\n",
       "    </tr>\n",
       "    <tr>\n",
       "      <th>6</th>\n",
       "      <td>~NON-PROJECT~~Teacher,ShortTermSub~~SALARIESOF...</td>\n",
       "      <td>2374</td>\n",
       "    </tr>\n",
       "    <tr>\n",
       "      <th>7</th>\n",
       "      <td>~NON-PROJECT~~Teacher,ShortTermSub~~EMPLOYEEBE...</td>\n",
       "      <td>2270</td>\n",
       "    </tr>\n",
       "    <tr>\n",
       "      <th>8</th>\n",
       "      <td>~EMPLOYEERETIREMENT~~Teacher,Elementary~~RETIR...</td>\n",
       "      <td>2032</td>\n",
       "    </tr>\n",
       "    <tr>\n",
       "      <th>9</th>\n",
       "      <td>~~~~~~~~~~~~~</td>\n",
       "      <td>1874</td>\n",
       "    </tr>\n",
       "    <tr>\n",
       "      <th>10</th>\n",
       "      <td>~ELAE-TEACHINGSHELTEREDENG~~Teacher,Elementary...</td>\n",
       "      <td>1626</td>\n",
       "    </tr>\n",
       "    <tr>\n",
       "      <th>11</th>\n",
       "      <td>~ELAE-TEACHINGSHELTEREDENG~~Teacher,Elementary...</td>\n",
       "      <td>1566</td>\n",
       "    </tr>\n",
       "    <tr>\n",
       "      <th>12</th>\n",
       "      <td>AllCampusPayroll~Instruction~GeneralOperatingF...</td>\n",
       "      <td>1514</td>\n",
       "    </tr>\n",
       "    <tr>\n",
       "      <th>13</th>\n",
       "      <td>~NON-PROJECT~~Teacher,Secondary(High)~~CONTRAB...</td>\n",
       "      <td>1388</td>\n",
       "    </tr>\n",
       "    <tr>\n",
       "      <th>14</th>\n",
       "      <td>AllCampusPayroll~Instruction~GeneralOperatingF...</td>\n",
       "      <td>1245</td>\n",
       "    </tr>\n",
       "  </tbody>\n",
       "</table>\n",
       "</div>"
      ],
      "text/plain": [
       "                                                index  joined\n",
       "0   ~NON-PROJECT~~Teacher,Elementary~~CONTRABENEFI...    4130\n",
       "1   ~UNALLOCBUDGETS/SCHOOLS~~Teacher,ShortTermSub~...    3578\n",
       "2   ~~GeneralPurposeSchool~~~PersonalServices-Subs...    3269\n",
       "3   ~INSTRUCTION~GeneralFund~~~SUPPLIES~~PRIMARYGR...    3140\n",
       "4   ~UNALLOCBUDGETS/SCHOOLS~~Teacher,ShortTermSub~...    2951\n",
       "5   ~BASIC(FEFPK-12)~GENERALFUND~SUBTEACHERALL~Sch...    2549\n",
       "6   ~NON-PROJECT~~Teacher,ShortTermSub~~SALARIESOF...    2374\n",
       "7   ~NON-PROJECT~~Teacher,ShortTermSub~~EMPLOYEEBE...    2270\n",
       "8   ~EMPLOYEERETIREMENT~~Teacher,Elementary~~RETIR...    2032\n",
       "9                                       ~~~~~~~~~~~~~    1874\n",
       "10  ~ELAE-TEACHINGSHELTEREDENG~~Teacher,Elementary...    1626\n",
       "11  ~ELAE-TEACHINGSHELTEREDENG~~Teacher,Elementary...    1566\n",
       "12  AllCampusPayroll~Instruction~GeneralOperatingF...    1514\n",
       "13  ~NON-PROJECT~~Teacher,Secondary(High)~~CONTRAB...    1388\n",
       "14  AllCampusPayroll~Instruction~GeneralOperatingF...    1245"
      ]
     },
     "execution_count": 15,
     "metadata": {},
     "output_type": "execute_result"
    }
   ],
   "source": [
    "stats.sort_values(ascending=False).head(n=15).reset_index()"
   ]
  },
  {
   "cell_type": "code",
   "execution_count": 16,
   "metadata": {},
   "outputs": [
    {
     "data": {
      "text/plain": [
       "(YearEndAllocationTo~GeneralAdministration~GeneralOperatingFund~ATTORNEYS,LEGALDEPARTMENT~LegalDepartment-TaxCollectionDivision~EmployeeAllowances~ACCOUNTANT~Undistributed~Operations~TravelAllowances~TRAVEL~~~                                                                         1\n",
       "(YearEndAllocationTo~GeneralAdministration~GeneralOperatingFund~ATTORNEYS,LEGALDEPARTMENT~LegalDepartment-TaxCollectionDivision~EmployeeAllowances~DIRECTOR~Undistributed~Operations~TravelAllowances~TRAVEL~~~                                                                           3\n",
       "(YearEndAllocationTo~GeneralAdministration~GeneralOperatingFund~ATTORNEYS,LEGALDEPARTMENT~LegalDepartment-TaxCollectionDivision~SalariesAndWagesForTeachersAndOtherProfessi~ACCOUNTANT~Undistributed~Operations~SalariesAndWagesForTeachersAndOtherProfessi~REGULARPAY~~~                 1\n",
       "(YearEndAllocationTo~GeneralAdministration~GeneralOperatingFund~ATTORNEYS,LEGALDEPARTMENT~LegalDepartment-TaxCollectionDivision~SalariesAndWagesForTeachersAndOtherProfessi~ASSISTANTSUPERINTENDENT~Undistributed~Operations~SalariesAndWagesForTeachersAndOtherProfessi~REGULARPAY~~~    2\n",
       "(YearEndAllocationTo~GeneralAdministration~GeneralOperatingFund~ATTORNEYS,LEGALDEPARTMENT~LegalDepartment-TaxCollectionDivision~SalariesAndWagesForTeachersAndOtherProfessi~DIRECTOR~Undistributed~Operations~SalariesAndWagesForTeachersAndOtherProfessi~REGULARPAY~~~                   3\n",
       "Name: joined, dtype: int64"
      ]
     },
     "execution_count": 16,
     "metadata": {},
     "output_type": "execute_result"
    }
   ],
   "source": [
    "stats = stats.sort_index()\n",
    "stats.head()"
   ]
  },
  {
   "cell_type": "code",
   "execution_count": 17,
   "metadata": {},
   "outputs": [
    {
     "data": {
      "text/plain": [
       "10"
      ]
     },
     "execution_count": 17,
     "metadata": {},
     "output_type": "execute_result"
    }
   ],
   "source": [
    "k1=stats.index[10]\n",
    "stats.index.get_loc(k1)"
   ]
  },
  {
   "cell_type": "code",
   "execution_count": 18,
   "metadata": {},
   "outputs": [
    {
     "data": {
      "image/png": "[encoded data removed]",
      "text/plain": [
       "<Figure size 432x288 with 1 Axes>"
      ]
     },
     "metadata": {},
     "output_type": "display_data"
    }
   ],
   "source": [
    "# plt.bar(x=range(stats.shape[0]), height=stats.values)\n",
    "# n_pts = 500000\n",
    "# plt.bar(x=range(n_pts), height=stats.iloc[:n_pts])\n",
    "plt.plot(stats.sort_values(ascending=False).values.cumsum())\n",
    "plt.title(\"%s, %s\"%(stats.values.sum(), stats.shape[0]))\n",
    "plt.show()"
   ]
  },
  {
   "cell_type": "code",
   "execution_count": 19,
   "metadata": {},
   "outputs": [],
   "source": [
    "k1 = stats.sort_values(ascending=False).reset_index().loc[0]['index']"
   ]
  },
  {
   "cell_type": "code",
   "execution_count": 20,
   "metadata": {},
   "outputs": [
    {
     "data": {
      "text/plain": [
       "((4130, 26), 400277)"
      ]
     },
     "execution_count": 20,
     "metadata": {},
     "output_type": "execute_result"
    }
   ],
   "source": [
    "train[train['joined']==k1].shape, train.shape[0]"
   ]
  },
  {
   "cell_type": "code",
   "execution_count": 21,
   "metadata": {},
   "outputs": [
    {
     "data": {
      "text/html": [
       "<div>\n",
       "<style scoped>\n",
       "    .dataframe tbody tr th:only-of-type {\n",
       "        vertical-align: middle;\n",
       "    }\n",
       "\n",
       "    .dataframe tbody tr th {\n",
       "        vertical-align: top;\n",
       "    }\n",
       "\n",
       "    .dataframe thead th {\n",
       "        text-align: right;\n",
       "    }\n",
       "</style>\n",
       "<table border=\"1\" class=\"dataframe\">\n",
       "  <thead>\n",
       "    <tr style=\"text-align: right;\">\n",
       "      <th></th>\n",
       "      <th>index</th>\n",
       "      <th>Function</th>\n",
       "    </tr>\n",
       "  </thead>\n",
       "  <tbody>\n",
       "    <tr>\n",
       "      <th>0</th>\n",
       "      <td>Teacher Compensation</td>\n",
       "      <td>3915</td>\n",
       "    </tr>\n",
       "    <tr>\n",
       "      <th>1</th>\n",
       "      <td>Extended Time &amp; Tutoring</td>\n",
       "      <td>215</td>\n",
       "    </tr>\n",
       "  </tbody>\n",
       "</table>\n",
       "</div>"
      ],
      "text/plain": [
       "                      index  Function\n",
       "0      Teacher Compensation      3915\n",
       "1  Extended Time & Tutoring       215"
      ]
     },
     "execution_count": 21,
     "metadata": {},
     "output_type": "execute_result"
    }
   ],
   "source": [
    "train[train['joined']==k1]['Function'].value_counts().reset_index()"
   ]
  },
  {
   "cell_type": "code",
   "execution_count": 22,
   "metadata": {},
   "outputs": [
    {
     "data": {
      "text/plain": [
       "False"
      ]
     },
     "execution_count": 22,
     "metadata": {},
     "output_type": "execute_result"
    }
   ],
   "source": [
    "import os\n",
    "\n",
    "# The 1st version turned out to have indeces not in stats.index .. weird\n",
    "# prob_fn = 'data_out/t1_probabilities_function.pkl'\n",
    "\n",
    "# Fixing the above in the 2nd version\n",
    "# prob_fn = 'data_out/t1_probabilities_function_v2.pkl'\n",
    "\n",
    "# Set \".sort()\" on features so that they're replicable\n",
    "# prob_fn = 'data_out/t1_probabilities_function_v3.pkl'\n",
    "\n",
    "# Calculate for all targets, not only Functions\n",
    "prob_fn = 'data_out/t1_probabilities_function_v4.pkl'\n",
    "\n",
    "os.path.exists(prob_fn)"
   ]
  },
  {
   "cell_type": "code",
   "execution_count": 46,
   "metadata": {},
   "outputs": [
    {
     "name": "stdout",
     "output_type": "stream",
     "text": [
      "Wed Apr  4 05:38:28 2018 .. Function: 0 / 51216\n",
      "Wed Apr  4 05:38:28 2018 .. Object_Type: 0 / 51216\n",
      "Wed Apr  4 05:38:28 2018 .. Operating_Status: 0 / 51216\n",
      "Wed Apr  4 05:38:29 2018 .. Position_Type: 0 / 51216\n",
      "Wed Apr  4 05:38:29 2018 .. Pre_K: 0 / 51216\n",
      "Wed Apr  4 05:38:29 2018 .. Reporting: 0 / 51216\n",
      "Wed Apr  4 05:38:29 2018 .. Sharing: 0 / 51216\n",
      "Wed Apr  4 05:38:29 2018 .. Student_Type: 0 / 51216\n",
      "Wed Apr  4 05:38:30 2018 .. Use: 0 / 51216\n"
     ]
    }
   ],
   "source": [
    "if os.path.exists(prob_fn):\n",
    "    probabilities = pd.read_pickle(prob_fn)\n",
    "else:\n",
    "    panel = {}\n",
    "    for k2 in labels.keys():\n",
    "        panel[k2] = pd.DataFrame(\n",
    "            np.zeros(shape=(len(labels[k2]), stats.shape[0])),\n",
    "            columns=stats.index,\n",
    "            index=labels[k2]\n",
    "        )\n",
    "        #probabilities.head(n=2)\n",
    "\n",
    "        # k1 = stats.index[0]\n",
    "        # probabilities[k1].update(train[train['joined']==k1]['Function'].value_counts())\n",
    "        # probabilities[k1]\n",
    "\n",
    "        n = len(stats.index)\n",
    "        for i,k1 in enumerate(stats.head().index):\n",
    "            if i % 1000 == 0: print(\"%s .. %s: %s / %s\"%(time.ctime(), k2, i, n))\n",
    "            panel[k2][k1].update(train[train['joined']==k1][k2].value_counts())\n",
    "\n",
    "    #probabilities = pd.Panel(probabilities)\n",
    "    \n",
    "    # save\n",
    "    #probabilities.to_pickle(prob_fn)"
   ]
  },
  {
   "cell_type": "code",
   "execution_count": 49,
   "metadata": {},
   "outputs": [
    {
     "name": "stdout",
     "output_type": "stream",
     "text": [
      "Function (37, 51216)\n",
      "Object_Type (11, 51216)\n",
      "Operating_Status (3, 51216)\n",
      "Position_Type (25, 51216)\n",
      "Pre_K (3, 51216)\n",
      "Reporting (3, 51216)\n",
      "Sharing (5, 51216)\n",
      "Student_Type (9, 51216)\n",
      "Use (8, 51216)\n"
     ]
    }
   ],
   "source": [
    "for dependent, probabilities in panel.items():\n",
    "    print(dependent, probabilities.shape)"
   ]
  },
  {
   "cell_type": "code",
   "execution_count": 45,
   "metadata": {},
   "outputs": [],
   "source": [
    "# since NO_LABEL is replaced with NaN, need this\n",
    "for dependent, probabilities in panel.items():\n",
    "    panel[dependent].loc['NO_LABEL',panel[dependent].sum(axis=0)==0]=1"
   ]
  },
  {
   "cell_type": "code",
   "execution_count": 51,
   "metadata": {},
   "outputs": [
    {
     "name": "stdout",
     "output_type": "stream",
     "text": [
      "Function (37, 51216) (0, 51216) (37, 51211)\n",
      "Object_Type (11, 51216) (0, 51216) (11, 51211)\n",
      "Operating_Status (3, 51216) (0, 51216) (3, 51211)\n",
      "Position_Type (25, 51216) (0, 51216) (25, 51211)\n",
      "Pre_K (3, 51216) (0, 51216) (3, 51211)\n",
      "Reporting (3, 51216) (0, 51216) (3, 51211)\n",
      "Sharing (5, 51216) (0, 51216) (5, 51211)\n",
      "Student_Type (9, 51216) (0, 51216) (9, 51211)\n",
      "Use (8, 51216) (0, 51216) (8, 51211)\n"
     ]
    }
   ],
   "source": [
    "for dependent, probabilities in panel.items():\n",
    "    print(dependent, probabilities.shape, probabilities[pd.isnull(probabilities).all(axis=1)].shape, probabilities.loc[:,probabilities.sum(axis=0)==0].shape)"
   ]
  },
  {
   "cell_type": "code",
   "execution_count": 52,
   "metadata": {},
   "outputs": [
    {
     "name": "stdout",
     "output_type": "stream",
     "text": [
      "Function (51216, 37)\n",
      "Object_Type (51216, 11)\n",
      "Operating_Status (51216, 3)\n",
      "Position_Type (51216, 25)\n",
      "Pre_K (51216, 3)\n",
      "Reporting (51216, 3)\n",
      "Sharing (51216, 5)\n",
      "Student_Type (51216, 9)\n",
      "Use (51216, 8)\n"
     ]
    }
   ],
   "source": [
    "for dependent, probabilities in panel.items():\n",
    "    # k1 = stats.index[1]\n",
    "    # probabilities[k1], (probabilities / probabilities.sum(axis=0))[k1]\n",
    "    probabilities = probabilities / probabilities.sum(axis=0)\n",
    "\n",
    "    probabilities = probabilities.transpose()\n",
    "\n",
    "    probabilities = probabilities.sort_index()\n",
    "    \n",
    "    panel[dependent] = probabilities\n",
    "\n",
    "    print(dependent, probabilities.shape)"
   ]
  },
  {
   "cell_type": "code",
   "execution_count": 54,
   "metadata": {},
   "outputs": [
    {
     "name": "stdout",
     "output_type": "stream",
     "text": [
      "Function (51216, 37) (51211, 37) (51211, 37)\n",
      "Object_Type (51216, 11) (51211, 11) (51211, 11)\n",
      "Operating_Status (51216, 3) (51211, 3) (51211, 3)\n",
      "Position_Type (51216, 25) (51211, 25) (51211, 25)\n",
      "Pre_K (51216, 3) (51211, 3) (51211, 3)\n",
      "Reporting (51216, 3) (51211, 3) (51211, 3)\n",
      "Sharing (51216, 5) (51211, 5) (51211, 5)\n",
      "Student_Type (51216, 9) (51211, 9) (51211, 9)\n",
      "Use (51216, 8) (51211, 8) (51211, 8)\n"
     ]
    }
   ],
   "source": [
    "for dependent, probabilities in panel.items():\n",
    "    print(dependent, probabilities.shape, probabilities[pd.isnull(probabilities).all(axis=1)].shape, probabilities[probabilities.sum(axis=1)==0].shape)"
   ]
  },
  {
   "cell_type": "code",
   "execution_count": null,
   "metadata": {},
   "outputs": [],
   "source": [
    "for dependent, probabilities in panel.items():\n",
    "    assert set(stats.index) == set(probabilities.index)\n",
    "    assert len(set(stats.index) - set(probabilities.index)) == 0\n",
    "    assert len(set(probabilities.index) - set(stats.index)) == 0"
   ]
  },
  {
   "cell_type": "markdown",
   "metadata": {},
   "source": [
    "## Bring back original set of columns\n",
    "These are the fields that got joined with ~"
   ]
  },
  {
   "cell_type": "code",
   "execution_count": null,
   "metadata": {},
   "outputs": [],
   "source": [
    "vocabulary = train[~train.duplicated(['joined'])][features+['joined']].set_index('joined').sort_index()"
   ]
  },
  {
   "cell_type": "code",
   "execution_count": null,
   "metadata": {},
   "outputs": [],
   "source": [
    "vocabulary.head(n=2)"
   ]
  },
  {
   "cell_type": "code",
   "execution_count": null,
   "metadata": {},
   "outputs": [],
   "source": [
    "for dependent, probabilities in panel.items():\n",
    "    assert set(probabilities.index) == set(vocabulary.index)\n",
    "    assert len(set(probabilities.index) - set(vocabulary.index)) == 0\n",
    "    assert len(set(vocabulary.index) - set(probabilities.index)) == 0"
   ]
  },
  {
   "cell_type": "code",
   "execution_count": null,
   "metadata": {
    "scrolled": false
   },
   "outputs": [],
   "source": [
    "# append \"set_index\" as recommended in pandas github issue 7632\n",
    "# https://github.com/pandas-dev/pandas/issues/7632#issuecomment-316806258\n",
    "# prob2 = probabilities.merge(vocabulary, left_index=True, right_on='joined', how='left').set_index('joined')\n",
    "\n",
    "prob2 = {}\n",
    "for dependent, probabilities in panel.items():\n",
    "    prob2[dependent] = probabilities.merge(vocabulary, left_index=True, right_index=True, how='left') # .set_index('joined')\n",
    "    print(dependent, probabilities.shape, prob2[dependent].shape) # , prob2.head(n=2), prob2.head(n=2).index # , train.loc[70455]"
   ]
  },
  {
   "cell_type": "code",
   "execution_count": null,
   "metadata": {},
   "outputs": [],
   "source": [
    "for dependent in panel:\n",
    "    prob2[dependent][features].sort_index().head(n=2)"
   ]
  },
  {
   "cell_type": "code",
   "execution_count": null,
   "metadata": {},
   "outputs": [],
   "source": [
    "print(time.ctime())\n",
    "prob3={}\n",
    "for dependent in panel:\n",
    "    prob3[dependent] = prob2[dependent][features].apply(lambda x: pd.factorize(x)[0], axis=0)\n",
    "    prob3[dependent] = prob3[dependent] + 1 # +1 for the -1 (keras Embedding supports [0,N) )\n",
    "    \n",
    "print(time.ctime())"
   ]
  },
  {
   "cell_type": "code",
   "execution_count": null,
   "metadata": {},
   "outputs": [],
   "source": [
    "prob3.max().max(), prob3.min().min()"
   ]
  },
  {
   "cell_type": "code",
   "execution_count": null,
   "metadata": {},
   "outputs": [],
   "source": [
    "prob3.shape, probabilities.shape"
   ]
  },
  {
   "cell_type": "code",
   "execution_count": null,
   "metadata": {},
   "outputs": [],
   "source": [
    "prob3.max(axis=0)"
   ]
  },
  {
   "cell_type": "markdown",
   "metadata": {},
   "source": [
    "## split hold-out"
   ]
  },
  {
   "cell_type": "code",
   "execution_count": null,
   "metadata": {},
   "outputs": [],
   "source": [
    "x = prob3\n",
    "y = probabilities # .fillna(0)\n",
    "\n",
    "from sklearn.model_selection import train_test_split\n",
    "x_train, x_test, y_train, y_test = train_test_split(x, y, test_size=0.33, random_state=42)\n",
    "\n",
    "# make array of features\n",
    "x_train = [x_train[f].values for f in vocab_size.index]\n",
    "x_test  = [x_test [f].values for f in vocab_size.index]"
   ]
  },
  {
   "cell_type": "markdown",
   "metadata": {},
   "source": [
    "## keras embedding + Dense/LSTM"
   ]
  },
  {
   "cell_type": "code",
   "execution_count": null,
   "metadata": {},
   "outputs": [],
   "source": [
    "vocab_size = prob3.max(axis=0) + 1 # +1 for the 0"
   ]
  },
  {
   "cell_type": "code",
   "execution_count": null,
   "metadata": {},
   "outputs": [],
   "source": [
    "#vocab_size.index, prob3.columns\n",
    "vocab_size"
   ]
  },
  {
   "cell_type": "code",
   "execution_count": null,
   "metadata": {},
   "outputs": [],
   "source": [
    "probabilities.shape[1]"
   ]
  },
  {
   "cell_type": "code",
   "execution_count": null,
   "metadata": {},
   "outputs": [],
   "source": [
    "from keras.layers import Embedding, Dense, Flatten, LSTM, Input, Concatenate, Add, Lambda\n",
    "from keras.models import Sequential, Model\n",
    "from keras import backend as K\n",
    "\n",
    "# vocab_size = stats.shape[0]\n",
    "\n",
    "# inputs = [Input(shape=(prob3.shape[1],)) for f in vocab_size.index]\n",
    "inputs = {f: Input(shape=(1,), name=f) for f in vocab_size.index}\n",
    "\n",
    "# embeddings = [Embedding(vocab_size[f], embedding_dim, input_length=prob3.shape[1]) for f in vocab_size.index]\n",
    "\n",
    "if True:\n",
    "    embedding_dim = 3 # 12 # 2 # 64 # FIXME\n",
    "    embeddings = [Embedding(vocab_size[f], embedding_dim, input_length=1)(inputs[f]) for f in vocab_size.index]\n",
    "else:\n",
    "    embeddings = [Embedding(vocab_size[f], max(3, vocab_size[f]//15//10), input_length=1)(inputs[f]) for f in vocab_size.index]\n",
    "\n",
    "# the model will take as input an integer matrix of size (batch, input_length).\n",
    "# the largest integer (i.e. word index) in the input should be no larger than 999 (vocabulary size).\n",
    "# now model.output_shape == (None, input_length, embedding_dim), where None is the batch dimension.\n",
    "\n",
    "x1 = Concatenate()(embeddings)\n",
    "\n",
    "x1 = Flatten()(x1)\n",
    "#x1 = Dense( 500, activation='relu')(x1)\n",
    "# x1 = Dense(  50, activation='relu')(x1)\n",
    "x1 = Dense(  50, activation='relu')(x1)\n",
    "x1 = Dense(  50, activation='relu')(x1)\n",
    "o1 = Dense(probabilities.shape[1], activation = 'softmax', name='predicted')(x1)\n",
    "#o2 = Lambda(lambda x: K.sum(x, axis=1, keepdims=True), name='sum')(o1)\n",
    "#o3 = Lambda(lambda x: K.argmax(x, axis=-1), output_shape=(1,), dtype='int64', name='argmax')(o1)\n",
    "#outputs = [o1, o2, o3]\n",
    "outputs = [o1]\n",
    "\n",
    "inputs = [inputs[f] for f in vocab_size.index]\n",
    "model = Model(inputs=inputs, outputs=outputs)\n",
    "model.summary()"
   ]
  },
  {
   "cell_type": "code",
   "execution_count": null,
   "metadata": {},
   "outputs": [],
   "source": [
    "def multi_multiclass_logloss(y_true, y_pred):\n",
    "    # when statring to use Function and others, use this\n",
    "    # return K.mean(-1*K.mean(K.batch_dot(y_true, K.log(y_pred)), axis=-1), axis=-1)\n",
    "    # _epsilon = K.epsilon() * K.ones_like(y_true)\n",
    "    y_pred2 = K.clip(y_pred, K.epsilon(), 1 - K.epsilon())\n",
    "    output = -1*K.mean(K.batch_dot(K.transpose(y_true), K.log(y_pred2), axes=[0,1]), axis=-1)\n",
    "    return output\n",
    "\n",
    "# model.compile('rmsprop', loss='categorical_crossentropy', metrics=['acc'])\n",
    "model.compile('rmsprop', loss=multi_multiclass_logloss, metrics=['acc'])"
   ]
  },
  {
   "cell_type": "code",
   "execution_count": null,
   "metadata": {},
   "outputs": [],
   "source": [
    "# test K.batch_dot\n",
    "# Need to specify axes due to issue\n",
    "# https://github.com/keras-team/keras/issues/9847\n",
    "x_batch = K.ones(shape=(32, 37))\n",
    "y_batch = K.ones(shape=(32, 37))\n",
    "# xy_batch_dot = K.batch_dot(K.transpose(x_batch), y_batch, axes=[0, 1])\n",
    "xy_batch_dot = multi_multiclass_logloss(x_batch, y_batch)\n",
    "K.int_shape(xy_batch_dot), K.eval(xy_batch_dot)"
   ]
  },
  {
   "cell_type": "code",
   "execution_count": null,
   "metadata": {
    "scrolled": false
   },
   "outputs": [],
   "source": [
    "# from keras.utils import to_categorical\n",
    "# y_binary = to_categorical(np.argmax(y_train.values, axis=1))\n",
    "# y_binary = np.argmax(y_train.values, axis=1).squeeze()\n",
    "\n",
    "model.fit(\n",
    "    # pd.get_dummies(train3['x'].values),\n",
    "    # # train2[list(set(train2.columns) - set(['joined']))],\n",
    "    # train3['y'].values,\n",
    "    x_train,\n",
    "    [\n",
    "        y_train,\n",
    "        #np.ones(shape=(y_train.shape[0],1)),\n",
    "        #y_binary,\n",
    "    ],\n",
    "    epochs=100,\n",
    "    verbose=2,\n",
    "    validation_split = 0.2,\n",
    "    shuffle=False\n",
    ")"
   ]
  },
  {
   "cell_type": "code",
   "execution_count": null,
   "metadata": {},
   "outputs": [],
   "source": [
    "model.evaluate(\n",
    "    x_test,\n",
    "    [\n",
    "        y_test,\n",
    "        # np.ones(shape=(y_test.shape[0],1))\n",
    "    ]\n",
    ")"
   ]
  },
  {
   "cell_type": "markdown",
   "metadata": {},
   "source": [
    "## argmax accuracy"
   ]
  },
  {
   "cell_type": "code",
   "execution_count": null,
   "metadata": {},
   "outputs": [],
   "source": [
    "my_score = np.zeros(y_test.shape[0], dtype='uint8')\n",
    "# y_pred, sum_pred = model.predict([x_test[f].values for f in vocab_size.index])\n",
    "y_pred = model.predict([x_test[f].values for f in vocab_size.index])\n",
    "for i in range(y_test.shape[0]):\n",
    "    v1 = y_test.iloc[i].idxmax()\n",
    "    v2 = probabilities.columns[np.argmax(y_pred[i])]\n",
    "    my_score[i] = 1 if (v1 == v2) else 0"
   ]
  },
  {
   "cell_type": "code",
   "execution_count": null,
   "metadata": {},
   "outputs": [],
   "source": [
    "sum(my_score), my_score.shape[0], sum(my_score)*100 // my_score.shape[0]"
   ]
  },
  {
   "cell_type": "markdown",
   "metadata": {},
   "source": [
    "## Spatial comparison"
   ]
  },
  {
   "cell_type": "code",
   "execution_count": null,
   "metadata": {
    "scrolled": true
   },
   "outputs": [],
   "source": [
    "for i in range(probabilities.shape[1]):\n",
    "    n_show = 1000\n",
    "    y_pred = model.predict([x_test[f].values[:n_show] for f in vocab_size.index])\n",
    "\n",
    "    plt.figure(figsize=(20,3))\n",
    "    plt.plot(y_pred[:n_show,i], label='pred')\n",
    "    #plt.plot(sum_pred, label='sum_pred', alpha=0.2)\n",
    "    plt.plot(y_test.iloc[:n_show,i].values, '.', label='actual')\n",
    "    plt.legend(loc='best')\n",
    "    plt.title(y_test.columns[i])\n",
    "    \n",
    "    axes = plt.gca()\n",
    "    axes.set_ylim([-.1,1.1])\n",
    "    plt.show()"
   ]
  },
  {
   "cell_type": "code",
   "execution_count": null,
   "metadata": {},
   "outputs": [],
   "source": [
    "y_test.iloc[0].sum(), y_pred[0].sum() # , y_pred[0]"
   ]
  },
  {
   "cell_type": "markdown",
   "metadata": {},
   "source": [
    "## temporal comparison"
   ]
  },
  {
   "cell_type": "code",
   "execution_count": null,
   "metadata": {
    "scrolled": false
   },
   "outputs": [],
   "source": [
    "y_pred = model.predict([x_test[f].values for f in vocab_size.index])\n",
    "\n",
    "for i in range(15):\n",
    "    plt.figure(figsize=(10,3))\n",
    "    \n",
    "    plt.subplot(121)\n",
    "    plt.bar(x=range(y_pred.shape[1]), height=y_test.iloc[i].values)\n",
    "    plt.title('%s. prediction, argmax=%s'%(i,np.argmax(y_test.iloc[i].values)))\n",
    "    \n",
    "    plt.subplot(122)\n",
    "    plt.bar(x=range(y_pred.shape[1]), height=y_pred[i])\n",
    "    plt.title('%s. actual, argmax=%s'%(i,np.argmax(y_pred[i])))\n",
    "    \n",
    "    # plt.title(y_test.index[i])\n",
    "    \n",
    "    plt.show()"
   ]
  },
  {
   "cell_type": "code",
   "execution_count": null,
   "metadata": {},
   "outputs": [],
   "source": [
    "i=6\n",
    "y_test.iloc[i].values"
   ]
  },
  {
   "cell_type": "code",
   "execution_count": null,
   "metadata": {},
   "outputs": [],
   "source": []
  },
  {
   "cell_type": "markdown",
   "metadata": {},
   "source": [
    "## RF"
   ]
  },
  {
   "cell_type": "code",
   "execution_count": null,
   "metadata": {},
   "outputs": [],
   "source": [
    "from sklearn.ensemble import RandomForestRegressor\n",
    "from sklearn.datasets import make_regression\n",
    "\n",
    "regr = RandomForestRegressor(max_depth=None, random_state=0, verbose=2, n_jobs=-1)\n",
    "\n",
    "\n",
    "regr.fit(x_train, y_train)"
   ]
  },
  {
   "cell_type": "code",
   "execution_count": null,
   "metadata": {},
   "outputs": [],
   "source": [
    "print(prob3.columns, regr.feature_importances_)"
   ]
  },
  {
   "cell_type": "code",
   "execution_count": null,
   "metadata": {},
   "outputs": [],
   "source": [
    "print(regr.score(x_test, y_test))"
   ]
  },
  {
   "cell_type": "code",
   "execution_count": null,
   "metadata": {},
   "outputs": [],
   "source": [
    "y_pred_rf = regr.predict(x_test[:3]) # .round(1)"
   ]
  },
  {
   "cell_type": "code",
   "execution_count": null,
   "metadata": {},
   "outputs": [],
   "source": [
    "y_pred_rf.sum(axis=1), y_pred_rf[0], y_test[:3].values"
   ]
  }
 ],
 "metadata": {
  "kernelspec": {
   "display_name": "Python 3",
   "language": "python",
   "name": "python3"
  },
  "language_info": {
   "codemirror_mode": {
    "name": "ipython",
    "version": 3
   },
   "file_extension": ".py",
   "mimetype": "text/x-python",
   "name": "python",
   "nbconvert_exporter": "python",
   "pygments_lexer": "ipython3",
   "version": "3.6.3"
  }
 },
 "nbformat": 4,
 "nbformat_minor": 2
}
